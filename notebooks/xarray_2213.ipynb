{
 "cells": [
  {
   "cell_type": "code",
   "execution_count": 1,
   "metadata": {},
   "outputs": [],
   "source": [
    "import xarray as xr\n",
    "import numpy as np\n",
    "import pandas as pd"
   ]
  },
  {
   "cell_type": "code",
   "execution_count": 2,
   "metadata": {},
   "outputs": [
    {
     "name": "stdout",
     "output_type": "stream",
     "text": [
      "\n",
      "INSTALLED VERSIONS\n",
      "------------------\n",
      "commit: None\n",
      "python: 3.5.2.final.0\n",
      "python-bits: 64\n",
      "OS: Windows\n",
      "OS-release: 10\n",
      "machine: AMD64\n",
      "processor: Intel64 Family 6 Model 63 Stepping 2, GenuineIntel\n",
      "byteorder: little\n",
      "LC_ALL: None\n",
      "LANG: None\n",
      "LOCALE: None.None\n",
      "\n",
      "xarray: 0.10.3\n",
      "pandas: 0.19.0\n",
      "numpy: 1.11.3\n",
      "scipy: 1.1.0\n",
      "netCDF4: 1.2.2\n",
      "h5netcdf: 0.2.2\n",
      "h5py: 2.6.0\n",
      "Nio: None\n",
      "zarr: None\n",
      "bottleneck: 1.2.1\n",
      "cyordereddict: 1.0.0\n",
      "dask: 0.14.1\n",
      "distributed: 1.21.8\n",
      "matplotlib: 2.2.2\n",
      "cartopy: None\n",
      "seaborn: 0.8.1\n",
      "setuptools: 27.2.0.post20161106\n",
      "pip: 9.0.1\n",
      "conda: None\n",
      "pytest: 3.6.0\n",
      "IPython: 6.4.0\n",
      "sphinx: None\n"
     ]
    }
   ],
   "source": [
    "xr.show_versions()"
   ]
  },
  {
   "cell_type": "code",
   "execution_count": 3,
   "metadata": {},
   "outputs": [],
   "source": [
    "data = np.random.rand(4, 90, 180)"
   ]
  },
  {
   "cell_type": "code",
   "execution_count": 4,
   "metadata": {},
   "outputs": [],
   "source": [
    "lat = np.arange(0,90,1)"
   ]
  },
  {
   "cell_type": "code",
   "execution_count": 5,
   "metadata": {},
   "outputs": [],
   "source": [
    "lon = np.arange(0,180,1)"
   ]
  },
  {
   "cell_type": "code",
   "execution_count": 6,
   "metadata": {},
   "outputs": [],
   "source": [
    "time = pd.date_range('2000-01-01T12:00:00', periods=4)"
   ]
  },
  {
   "cell_type": "code",
   "execution_count": 7,
   "metadata": {},
   "outputs": [],
   "source": [
    "foo = xr.DataArray(data, coords=[time, lat, lon], dims=['time', 'lat', 'lon'])"
   ]
  },
  {
   "cell_type": "code",
   "execution_count": 8,
   "metadata": {},
   "outputs": [
    {
     "data": {
      "text/plain": [
       "<xarray.DataArray (time: 4, lat: 90, lon: 180)>\n",
       "array([[[ 0.332231,  0.923876, ...,  0.916489,  0.511909],\n",
       "        [ 0.660899,  0.59784 , ...,  0.310555,  0.707859],\n",
       "        ..., \n",
       "        [ 0.938327,  0.170786, ...,  0.762403,  0.252795],\n",
       "        [ 0.221041,  0.132933, ...,  0.056459,  0.337369]],\n",
       "\n",
       "       [[ 0.191474,  0.442844, ...,  0.114375,  0.197824],\n",
       "        [ 0.156741,  0.400949, ...,  0.390564,  0.586544],\n",
       "        ..., \n",
       "        [ 0.654393,  0.563333, ...,  0.839175,  0.554296],\n",
       "        [ 0.42146 ,  0.409053, ...,  0.774658,  0.277885]],\n",
       "\n",
       "       [[ 0.660065,  0.398647, ...,  0.799548,  0.315824],\n",
       "        [ 0.316837,  0.999993, ...,  0.745206,  0.111975],\n",
       "        ..., \n",
       "        [ 0.875542,  0.361742, ...,  0.580985,  0.930637],\n",
       "        [ 0.560711,  0.714933, ...,  0.232878,  0.707307]],\n",
       "\n",
       "       [[ 0.893143,  0.807658, ...,  0.00173 ,  0.112017],\n",
       "        [ 0.440732,  0.701912, ...,  0.359352,  0.69418 ],\n",
       "        ..., \n",
       "        [ 0.183569,  0.340203, ...,  0.263483,  0.872148],\n",
       "        [ 0.624768,  0.407723, ...,  0.211212,  0.433252]]])\n",
       "Coordinates:\n",
       "  * time     (time) datetime64[ns] 2000-01-01T12:00:00 2000-01-02T12:00:00 ...\n",
       "  * lat      (lat) int32 0 1 2 3 4 5 6 7 8 9 10 11 12 13 14 15 16 17 18 19 ...\n",
       "  * lon      (lon) int32 0 1 2 3 4 5 6 7 8 9 10 11 12 13 14 15 16 17 18 19 ..."
      ]
     },
     "execution_count": 8,
     "metadata": {},
     "output_type": "execute_result"
    }
   ],
   "source": [
    "foo"
   ]
  },
  {
   "cell_type": "code",
   "execution_count": 9,
   "metadata": {},
   "outputs": [
    {
     "data": {
      "text/plain": [
       "<xarray.DataArray (lat: 90, lon: 180)>\n",
       "array([[ 0.332231,  0.923876,  0.855307, ...,  0.996365,  0.916489,  0.511909],\n",
       "       [ 0.660899,  0.59784 ,  0.28138 , ...,  0.377135,  0.310555,  0.707859],\n",
       "       [ 0.913347,  0.977776,  0.995024, ...,  0.469911,  0.8456  ,  0.971022],\n",
       "       ..., \n",
       "       [ 0.947261,  0.76744 ,  0.019311, ...,  0.584562,  0.789416,  0.882229],\n",
       "       [ 0.938327,  0.170786,  0.105226, ...,  0.124691,  0.762403,  0.252795],\n",
       "       [ 0.221041,  0.132933,  0.008797, ...,  0.026372,  0.056459,  0.337369]])\n",
       "Coordinates:\n",
       "    time     datetime64[ns] 2000-01-01T12:00:00\n",
       "  * lat      (lat) int32 0 1 2 3 4 5 6 7 8 9 10 11 12 13 14 15 16 17 18 19 ...\n",
       "  * lon      (lon) int32 0 1 2 3 4 5 6 7 8 9 10 11 12 13 14 15 16 17 18 19 ..."
      ]
     },
     "execution_count": 9,
     "metadata": {},
     "output_type": "execute_result"
    }
   ],
   "source": [
    "foo.sel(time='2000-01-01T12:00:00', method = 'nearest')"
   ]
  },
  {
   "cell_type": "code",
   "execution_count": 10,
   "metadata": {},
   "outputs": [
    {
     "data": {
      "text/plain": [
       "<xarray.DataArray (time: 1, lat: 90, lon: 180)>\n",
       "array([[[ 0.332231,  0.923876, ...,  0.916489,  0.511909],\n",
       "        [ 0.660899,  0.59784 , ...,  0.310555,  0.707859],\n",
       "        ..., \n",
       "        [ 0.938327,  0.170786, ...,  0.762403,  0.252795],\n",
       "        [ 0.221041,  0.132933, ...,  0.056459,  0.337369]]])\n",
       "Coordinates:\n",
       "  * time     (time) datetime64[ns] 2000-01-01T12:00:00\n",
       "  * lat      (lat) int32 0 1 2 3 4 5 6 7 8 9 10 11 12 13 14 15 16 17 18 19 ...\n",
       "  * lon      (lon) int32 0 1 2 3 4 5 6 7 8 9 10 11 12 13 14 15 16 17 18 19 ..."
      ]
     },
     "execution_count": 10,
     "metadata": {},
     "output_type": "execute_result"
    }
   ],
   "source": [
    "foo.sel(time='2000-01-01', method = 'nearest')"
   ]
  },
  {
   "cell_type": "code",
   "execution_count": null,
   "metadata": {},
   "outputs": [],
   "source": []
  }
 ],
 "metadata": {
  "kernelspec": {
   "display_name": "Python 3",
   "language": "python",
   "name": "python3"
  },
  "language_info": {
   "codemirror_mode": {
    "name": "ipython",
    "version": 3
   },
   "file_extension": ".py",
   "mimetype": "text/x-python",
   "name": "python",
   "nbconvert_exporter": "python",
   "pygments_lexer": "ipython3",
   "version": "3.5.2"
  }
 },
 "nbformat": 4,
 "nbformat_minor": 2
}
